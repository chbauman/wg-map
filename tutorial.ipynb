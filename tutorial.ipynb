{
 "cells": [
  {
   "cell_type": "code",
   "execution_count": 1,
   "metadata": {},
   "outputs": [],
   "source": [
    "from arcgis.gis import GIS\n",
    "gis = GIS()\n",
    "from arcgis.geocoding import geocode"
   ]
  },
  {
   "cell_type": "code",
   "execution_count": 2,
   "metadata": {
    "scrolled": false
   },
   "outputs": [
    {
     "data": {
      "application/vnd.jupyter.widget-view+json": {
       "model_id": "dd0635f1917a45cdb850f87a22ac8a34",
       "version_major": 2,
       "version_minor": 0
      },
      "text/plain": [
       "MapView(layout=Layout(height='400px', width='100%'))"
      ]
     },
     "metadata": {},
     "output_type": "display_data"
    },
    {
     "data": {
      "text/html": [
       "<div class=\"map-static-img-preview-4d72689e-b52f-4a16-8b48-698ae19048e8\"><img src=\"\"></img></div>"
      ],
      "text/plain": [
       "<IPython.core.display.HTML object>"
      ]
     },
     "metadata": {},
     "output_type": "display_data"
    }
   ],
   "source": [
    "map0 = gis.map(\"Schaffhausen\")\n",
    "#map0.basemap = \"dark-gray\"\n",
    "map0"
   ]
  },
  {
   "cell_type": "code",
   "execution_count": 3,
   "metadata": {},
   "outputs": [
    {
     "data": {
      "text/plain": [
       "'C:\\\\Users\\\\Chrigi\\\\Documents\\\\GitHub\\\\mapping\\\\.cache'"
      ]
     },
     "execution_count": 3,
     "metadata": {},
     "output_type": "execute_result"
    }
   ],
   "source": [
    "import pickle, os\n",
    "from pathlib import Path\n",
    "base_path = os.path.abspath('')\n",
    "CACHE_DIR = os.path.join(base_path, \".cache\")\n",
    "CACHE_DIR"
   ]
  },
  {
   "cell_type": "code",
   "execution_count": 4,
   "metadata": {},
   "outputs": [
    {
     "name": "stdout",
     "output_type": "stream",
     "text": [
      "Error while processing baselstadt\n",
      "Error while processing luzern\n",
      "Error while processing luzern\n",
      "Error while processing zurich-lake\n"
     ]
    }
   ],
   "source": [
    "info_path = os.path.join(CACHE_DIR, \"advert_info\")\n",
    "for f in os.listdir(info_path):\n",
    "    sh_path = os.path.join(info_path, f)\n",
    "    dat = pickle.load(open(sh_path, \"rb\"))\n",
    "    for info_dict in dat:\n",
    "        try:\n",
    "            popup = {\"title\": info_dict[\"price\"], \"content\": f\"<a href={info_dict['url']} target='_blank'>Link</a>\"}\n",
    "            map0.draw(info_dict[\"coords\"], popup)\n",
    "        except KeyError:\n",
    "            print(f\"Error while processing {f}\")"
   ]
  },
  {
   "cell_type": "code",
   "execution_count": null,
   "metadata": {},
   "outputs": [],
   "source": []
  }
 ],
 "metadata": {
  "kernelspec": {
   "display_name": "Python 3",
   "language": "python",
   "name": "python3"
  },
  "language_info": {
   "codemirror_mode": {
    "name": "ipython",
    "version": 3
   },
   "file_extension": ".py",
   "mimetype": "text/x-python",
   "name": "python",
   "nbconvert_exporter": "python",
   "pygments_lexer": "ipython3",
   "version": "3.6.6"
  }
 },
 "nbformat": 4,
 "nbformat_minor": 4
}
